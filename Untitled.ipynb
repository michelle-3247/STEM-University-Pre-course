{
 "cells": [
  {
   "cell_type": "code",
   "execution_count": 7,
   "metadata": {},
   "outputs": [
    {
     "ename": "IndentationError",
     "evalue": "unexpected indent (<ipython-input-7-33746fa77921>, line 24)",
     "output_type": "error",
     "traceback": [
      "\u001b[1;36m  File \u001b[1;32m\"<ipython-input-7-33746fa77921>\"\u001b[1;36m, line \u001b[1;32m24\u001b[0m\n\u001b[1;33m    bmi(bmi>29)\u001b[0m\n\u001b[1;37m    ^\u001b[0m\n\u001b[1;31mIndentationError\u001b[0m\u001b[1;31m:\u001b[0m unexpected indent\n"
     ]
    }
   ],
   "source": [
    "# Numpy Arrays\n",
    "# These are great alternatives to python lists\n",
    "# The key advantages are that they are fast, easy to work with and give users\n",
    " #an opportunity to perform calculations across entie arrays\n",
    "  \n",
    " #Create two arrays- weight and height\n",
    "height= [1.56,1.67,1.82,1.90,1.76,1.34,1.56,1.67,1.83,1.93]\n",
    "weight=[76.32,81.24,97.45,88.34,91.46,81.25,74.56,82.34,85.45,66.98]\n",
    " \n",
    " # import numpy package\n",
    "import numpy as  np\n",
    "\n",
    "#create both arrays in numpy from height and weight\n",
    "np_height= np.array(height)\n",
    "np_weight= np.array(weight)\n",
    "print(type(np_height))\n",
    "\n",
    "#element-wise calculations\n",
    "bal= np_weight/ np_height** 2\n",
    "print(bal)\n",
    "\n",
    "#subsetting\n",
    "bmi> 29\n",
    " bmi(bmi>29)\n",
    "\n"
   ]
  },
  {
   "cell_type": "code",
   "execution_count": 26,
   "metadata": {},
   "outputs": [
    {
     "name": "stdout",
     "output_type": "stream",
     "text": [
      "   university      location     area  population\n",
      "0       Riara  Mbagathi way  125.456         400\n",
      "1  Strathmore      Madaraka  320.376         934\n",
      "2        CUEA        Rongai  156.890         450\n",
      "3    Nazarene           CBD   95.392         320\n",
      "4     Daystar    Upper Hill  245.430         765\n",
      "    university      location     area  population\n",
      "RI       Riara  Mbagathi way  125.456         400\n",
      "ST  Strathmore      Madaraka  320.376         934\n",
      "CA        CUEA        Rongai  156.890         450\n",
      "NZ    Nazarene           CBD   95.392         320\n",
      "DS     Daystar    Upper Hill  245.430         765\n"
     ]
    }
   ],
   "source": [
    "#panda basics\n",
    "uni_dict={\n",
    "    \"university\" : [\"Riara\",\"Strathmore\",\"CUEA\",\"Nazarene\",\"Daystar\"],\n",
    "    \"location\" : [\"Mbagathi way\",\"Madaraka\",\"Rongai\",\"CBD\",\"Upper Hill\"],\n",
    "    \"area\" : [125.456,320.376,156.89,95.392,245.43],\n",
    "    \"population\" : [400,934,450,320,765]\n",
    "}        \n",
    "    \n",
    "# using pandas    \n",
    "import pandas as pd    \n",
    "dints=pd.DataFrame(uni_dict)\n",
    "print(dints)\n",
    "    \n",
    "# we can remove the indexes so instead of 0-4 we nhave initials \n",
    "dints.index= [\"RI\",\"ST\",\"CA\",\"NZ\",\"DS\"]\n",
    "print(dints)\n",
    "    \n"
   ]
  },
  {
   "cell_type": "code",
   "execution_count": null,
   "metadata": {},
   "outputs": [],
   "source": [
    "\n",
    "\n",
    "\n",
    "\n"
   ]
  },
  {
   "cell_type": "code",
   "execution_count": null,
   "metadata": {},
   "outputs": [],
   "source": []
  }
 ],
 "metadata": {
  "kernelspec": {
   "display_name": "Python 3",
   "language": "python",
   "name": "python3"
  },
  "language_info": {
   "codemirror_mode": {
    "name": "ipython",
    "version": 3
   },
   "file_extension": ".py",
   "mimetype": "text/x-python",
   "name": "python",
   "nbconvert_exporter": "python",
   "pygments_lexer": "ipython3",
   "version": "3.7.3"
  }
 },
 "nbformat": 4,
 "nbformat_minor": 2
}
